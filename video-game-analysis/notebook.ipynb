{
 "cells": [
  {
   "cell_type": "code",
   "execution_count": 11,
   "metadata": {
    "collapsed": true
   },
   "outputs": [],
   "source": [
    "import pandas as pd"
   ]
  },
  {
   "cell_type": "code",
   "execution_count": 12,
   "outputs": [],
   "source": [
    "df = pd.read_csv('dataset.csv', index_col=0)"
   ],
   "metadata": {
    "collapsed": false
   }
  },
  {
   "cell_type": "code",
   "execution_count": 13,
   "outputs": [
    {
     "data": {
      "text/plain": "       ParentGame      Rating      xListed    xReviewed         Plays  \\\ncount         0.0  289.000000   289.000000   289.000000    289.000000   \nmean          NaN    3.823875  1069.685121   545.799308   8823.470588   \nstd           NaN    0.458959   586.613037   349.787537   5646.495001   \nmin           NaN    1.900000   120.000000   104.000000    539.000000   \n25%           NaN    3.600000   667.000000   320.000000   4700.000000   \n50%           NaN    3.900000   897.000000   427.000000   7800.000000   \n75%           NaN    4.200000  1300.000000   674.000000  12000.000000   \nmax           NaN    4.600000  3100.000000  2500.000000  36000.000000   \n\n           Playing     Backlogs     Wishlist  \ncount   289.000000   289.000000   289.000000  \nmean    354.429066  2075.328720  1053.941176  \nstd     362.827624  1242.552402   740.587215  \nmin      21.000000    26.000000     6.000000  \n25%     131.000000  1100.000000   520.000000  \n50%     239.000000  1900.000000   850.000000  \n75%     451.000000  2700.000000  1400.000000  \nmax    2800.000000  6900.000000  3900.000000  ",
      "text/html": "<div>\n<style scoped>\n    .dataframe tbody tr th:only-of-type {\n        vertical-align: middle;\n    }\n\n    .dataframe tbody tr th {\n        vertical-align: top;\n    }\n\n    .dataframe thead th {\n        text-align: right;\n    }\n</style>\n<table border=\"1\" class=\"dataframe\">\n  <thead>\n    <tr style=\"text-align: right;\">\n      <th></th>\n      <th>ParentGame</th>\n      <th>Rating</th>\n      <th>xListed</th>\n      <th>xReviewed</th>\n      <th>Plays</th>\n      <th>Playing</th>\n      <th>Backlogs</th>\n      <th>Wishlist</th>\n    </tr>\n  </thead>\n  <tbody>\n    <tr>\n      <th>count</th>\n      <td>0.0</td>\n      <td>289.000000</td>\n      <td>289.000000</td>\n      <td>289.000000</td>\n      <td>289.000000</td>\n      <td>289.000000</td>\n      <td>289.000000</td>\n      <td>289.000000</td>\n    </tr>\n    <tr>\n      <th>mean</th>\n      <td>NaN</td>\n      <td>3.823875</td>\n      <td>1069.685121</td>\n      <td>545.799308</td>\n      <td>8823.470588</td>\n      <td>354.429066</td>\n      <td>2075.328720</td>\n      <td>1053.941176</td>\n    </tr>\n    <tr>\n      <th>std</th>\n      <td>NaN</td>\n      <td>0.458959</td>\n      <td>586.613037</td>\n      <td>349.787537</td>\n      <td>5646.495001</td>\n      <td>362.827624</td>\n      <td>1242.552402</td>\n      <td>740.587215</td>\n    </tr>\n    <tr>\n      <th>min</th>\n      <td>NaN</td>\n      <td>1.900000</td>\n      <td>120.000000</td>\n      <td>104.000000</td>\n      <td>539.000000</td>\n      <td>21.000000</td>\n      <td>26.000000</td>\n      <td>6.000000</td>\n    </tr>\n    <tr>\n      <th>25%</th>\n      <td>NaN</td>\n      <td>3.600000</td>\n      <td>667.000000</td>\n      <td>320.000000</td>\n      <td>4700.000000</td>\n      <td>131.000000</td>\n      <td>1100.000000</td>\n      <td>520.000000</td>\n    </tr>\n    <tr>\n      <th>50%</th>\n      <td>NaN</td>\n      <td>3.900000</td>\n      <td>897.000000</td>\n      <td>427.000000</td>\n      <td>7800.000000</td>\n      <td>239.000000</td>\n      <td>1900.000000</td>\n      <td>850.000000</td>\n    </tr>\n    <tr>\n      <th>75%</th>\n      <td>NaN</td>\n      <td>4.200000</td>\n      <td>1300.000000</td>\n      <td>674.000000</td>\n      <td>12000.000000</td>\n      <td>451.000000</td>\n      <td>2700.000000</td>\n      <td>1400.000000</td>\n    </tr>\n    <tr>\n      <th>max</th>\n      <td>NaN</td>\n      <td>4.600000</td>\n      <td>3100.000000</td>\n      <td>2500.000000</td>\n      <td>36000.000000</td>\n      <td>2800.000000</td>\n      <td>6900.000000</td>\n      <td>3900.000000</td>\n    </tr>\n  </tbody>\n</table>\n</div>"
     },
     "execution_count": 13,
     "metadata": {},
     "output_type": "execute_result"
    }
   ],
   "source": [
    "df.describe()"
   ],
   "metadata": {
    "collapsed": false
   }
  },
  {
   "cell_type": "code",
   "execution_count": 14,
   "outputs": [
    {
     "data": {
      "text/plain": "        Title  ParentGame   ReleaseDate            Team  Rating  xListed  \\\n138  Among Us         NaN  Jun 15, 2018  ['Innersloth']     3.0      925   \n\n     xReviewed                                          Platforms  \\\n138       2500  ['Windows PC', 'Android', 'PlayStation 4', 'iO...   \n\n                    Genres                                            Summary  \\\n138  ['Indie', 'Strategy']  Join your crew-mates in a multiplayer game of ...   \n\n                                               Reviews  Plays  Playing  \\\n138  ['An iconic flavor of the month, still fun to ...  27000      475   \n\n     Backlogs  Wishlist  \n138       821       134  ",
      "text/html": "<div>\n<style scoped>\n    .dataframe tbody tr th:only-of-type {\n        vertical-align: middle;\n    }\n\n    .dataframe tbody tr th {\n        vertical-align: top;\n    }\n\n    .dataframe thead th {\n        text-align: right;\n    }\n</style>\n<table border=\"1\" class=\"dataframe\">\n  <thead>\n    <tr style=\"text-align: right;\">\n      <th></th>\n      <th>Title</th>\n      <th>ParentGame</th>\n      <th>ReleaseDate</th>\n      <th>Team</th>\n      <th>Rating</th>\n      <th>xListed</th>\n      <th>xReviewed</th>\n      <th>Platforms</th>\n      <th>Genres</th>\n      <th>Summary</th>\n      <th>Reviews</th>\n      <th>Plays</th>\n      <th>Playing</th>\n      <th>Backlogs</th>\n      <th>Wishlist</th>\n    </tr>\n  </thead>\n  <tbody>\n    <tr>\n      <th>138</th>\n      <td>Among Us</td>\n      <td>NaN</td>\n      <td>Jun 15, 2018</td>\n      <td>['Innersloth']</td>\n      <td>3.0</td>\n      <td>925</td>\n      <td>2500</td>\n      <td>['Windows PC', 'Android', 'PlayStation 4', 'iO...</td>\n      <td>['Indie', 'Strategy']</td>\n      <td>Join your crew-mates in a multiplayer game of ...</td>\n      <td>['An iconic flavor of the month, still fun to ...</td>\n      <td>27000</td>\n      <td>475</td>\n      <td>821</td>\n      <td>134</td>\n    </tr>\n  </tbody>\n</table>\n</div>"
     },
     "execution_count": 14,
     "metadata": {},
     "output_type": "execute_result"
    }
   ],
   "source": [
    "df[df['Title'].str.contains('Among Us')]"
   ],
   "metadata": {
    "collapsed": false
   }
  },
  {
   "cell_type": "code",
   "execution_count": null,
   "outputs": [],
   "source": [],
   "metadata": {
    "collapsed": false
   }
  }
 ],
 "metadata": {
  "kernelspec": {
   "display_name": "Python 3",
   "language": "python",
   "name": "python3"
  },
  "language_info": {
   "codemirror_mode": {
    "name": "ipython",
    "version": 2
   },
   "file_extension": ".py",
   "mimetype": "text/x-python",
   "name": "python",
   "nbconvert_exporter": "python",
   "pygments_lexer": "ipython2",
   "version": "2.7.6"
  }
 },
 "nbformat": 4,
 "nbformat_minor": 0
}
